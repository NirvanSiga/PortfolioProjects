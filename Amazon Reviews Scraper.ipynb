{
 "cells": [
  {
   "cell_type": "code",
   "execution_count": null,
   "id": "dc211b6a",
   "metadata": {},
   "outputs": [],
   "source": [
    "from requests_html import HTMLSession\n",
    "import json\n",
    "import time\n",
    "\n",
    "class Reviews:\n",
    "    def __init__(self, asin) -> None:\n",
    "        self.asin = asin\n",
    "        self.session = HTMLSession()\n",
    "        self.headers = {'User-Agent': 'Mozilla/5.0 (Windows NT 10.0; Win64; x64; rv:109.0) Gecko/20100101 Firefox/109.0'}\n",
    "        self.url = f'https://www.amazon.in/product-reviews/{self.asin}/ref=cm_cr_dp_d_show_all_btm?ie=UTF8&reviewerType=all_reviews&pageNumber='\n",
    "        \n",
    "    def pagination(self, page):\n",
    "        r = self.session.get(self.url + str(page))\n",
    "        if not r.html.find('div[data-hook=review]'):\n",
    "            return False\n",
    "        else:\n",
    "            return r.html.find('div[data-hook=review]')\n",
    "        \n",
    "    def parse(self, reviews):\n",
    "        total = []\n",
    "        for review in reviews:\n",
    "            title = review.find('a[data-hook=review-title]', first=True).text\n",
    "            rating = review.find('i[data-hook=review-star-rating] span', first=True).text\n",
    "            body = review.find('span[data-hook=review-body] span', first=True).text.replace('\\n','').strip()\n",
    "            \n",
    "            data = {\n",
    "                'title': title,\n",
    "                'rating': rating,\n",
    "                'body': body[:100]\n",
    "            }            \n",
    "            total.append(data)\n",
    "        return total\n",
    "    \n",
    "    def save(self, results):\n",
    "        with open(self.asin + '-reviews.json', 'w') as f:\n",
    "            json.dump(results, f)\n",
    "\n",
    "if __name__ == '__main__':\n",
    "    amz = Reviews('B0B4F2TTTS')\n",
    "    results = []\n",
    "    for x in range(1,5):\n",
    "        print('getting page ', x)\n",
    "        time.sleep(2)\n",
    "        reviews = amz.pagination(x)\n",
    "        if reviews is not False:\n",
    "            results.append(amz.parse(reviews))\n",
    "        else:\n",
    "            print('No more pages')\n",
    "            break\n",
    "    \n",
    "    amz.save(results)\n",
    "            \n",
    "    \n",
    "        "
   ]
  },
  {
   "cell_type": "code",
   "execution_count": null,
   "id": "596eac90",
   "metadata": {},
   "outputs": [],
   "source": []
  }
 ],
 "metadata": {
  "kernelspec": {
   "display_name": "base",
   "language": "python",
   "name": "python3"
  },
  "language_info": {
   "codemirror_mode": {
    "name": "ipython",
    "version": 3
   },
   "file_extension": ".py",
   "mimetype": "text/x-python",
   "name": "python",
   "nbconvert_exporter": "python",
   "pygments_lexer": "ipython3",
   "version": "3.9.13"
  },
  "vscode": {
   "interpreter": {
    "hash": "ad2bdc8ecc057115af97d19610ffacc2b4e99fae6737bb82f5d7fb13d2f2c186"
   }
  }
 },
 "nbformat": 4,
 "nbformat_minor": 5
}
